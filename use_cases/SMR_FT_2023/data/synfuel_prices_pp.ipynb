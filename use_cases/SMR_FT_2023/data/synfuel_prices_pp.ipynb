{
 "cells": [
  {
   "cell_type": "code",
   "execution_count": 23,
   "metadata": {},
   "outputs": [],
   "source": [
    "import pandas as pd\n",
    "import os\n",
    "import shutil"
   ]
  },
  {
   "cell_type": "code",
   "execution_count": 30,
   "metadata": {},
   "outputs": [],
   "source": [
    "df = pd.read_excel('regional_fuel_prices.xlsx',  skipfooter=27)"
   ]
  },
  {
   "cell_type": "code",
   "execution_count": 33,
   "metadata": {},
   "outputs": [
    {
     "name": "stdout",
     "output_type": "stream",
     "text": [
      "   Location      2021      2022      2023      2024      2025      2026  \\\n",
      "0  illinois  1.941533  1.858428  1.379781  1.457143  1.444872  1.434458   \n",
      "1  illinois  2.050833  1.961526  1.470133  1.617687  1.617703  1.633069   \n",
      "2  illinois  1.906533  1.823428  1.387524  1.367061  1.339599  1.359640   \n",
      "3  illinois  1.554451  1.479874  0.700682  0.689044  0.673425  0.684823   \n",
      "4      ohio  1.543142  1.612995  1.617781  1.695143  1.682872  1.672458   \n",
      "\n",
      "       2027      2028      2029  ...      2075      2076      2077      2078  \\\n",
      "0  1.432917  1.452390  1.465089  ...  2.015414  2.027325  2.039236  2.051148   \n",
      "1  1.663247  1.700008  1.721404  ...  2.713468  2.735348  2.757229  2.779109   \n",
      "2  1.384234  1.408443  1.426751  ...  2.270075  2.287707  2.305339  2.322972   \n",
      "3  0.698811  0.712580  0.722993  ...  1.202634  1.212663  1.222691  1.232719   \n",
      "4  1.670917  1.690390  1.703089  ...  2.253414  2.265325  2.277236  2.289148   \n",
      "\n",
      "       2079      2080  Case  Modification      2020         Product  \n",
      "0  2.063059  2.074970   ref      Adjusted  1.941533          diesel  \n",
      "1  2.800989  2.822869   ref      Adjusted  2.050833        jet_fuel  \n",
      "2  2.340604  2.358236   ref      Adjusted  1.906533  motor_gasoline  \n",
      "3  1.242748  1.252776   ref      Adjusted  1.554451         naphtha  \n",
      "4  2.301059  2.312970   ref      Adjusted  1.543142          diesel  \n",
      "\n",
      "[5 rows x 65 columns]\n"
     ]
    }
   ],
   "source": [
    "new_locations ={'West South Central': 'west_south_central',\n",
    "                'East North Central - IL':'illinois',\n",
    "                'East North Central - OH':'ohio',\n",
    "                'West North Central - MN':'minnesota',\n",
    "                'West North Central - NE':'nebraska'}\n",
    "new_fuels = {' Distillate Fuel Oil': 'diesel',\n",
    "              'Naphtha':'naphtha',\n",
    "              ' Motor Gasoline':'motor_gasoline',\n",
    "              ' Jet Fuel':'jet_fuel'}\n",
    "def cleanup_data(df):\n",
    "  df = df.copy()\n",
    "  for old_loc, new_loc in new_locations.items():\n",
    "    df.loc[df['Location'] == old_loc, 'Location'] =new_loc\n",
    "  df['Case'] ='ref'\n",
    "  df['Modification'] ='Adjusted'\n",
    "  df[2020] = df[2021]\n",
    "  for old_f, new_f in new_fuels.items():\n",
    "    df.loc[df['Product Name'] == old_f, 'Product'] = new_f\n",
    "  df.drop(columns=['Product Name'], inplace=True)\n",
    "  print(df.head(5))\n",
    "  return df \n",
    "clean_df = cleanup_data(df)\n",
    "clean_df.to_csv('regional_fuel_prices.csv', index=False,)"
   ]
  }
 ],
 "metadata": {
  "kernelspec": {
   "display_name": "Python 3.9.13 ('base')",
   "language": "python",
   "name": "python3"
  },
  "language_info": {
   "codemirror_mode": {
    "name": "ipython",
    "version": 3
   },
   "file_extension": ".py",
   "mimetype": "text/x-python",
   "name": "python",
   "nbconvert_exporter": "python",
   "pygments_lexer": "ipython3",
   "version": "3.9.13"
  },
  "orig_nbformat": 4,
  "vscode": {
   "interpreter": {
    "hash": "3d597f4c481aa0f25dceb95d2a0067e73c0966dcbd003d741d821a7208527ecf"
   }
  }
 },
 "nbformat": 4,
 "nbformat_minor": 2
}
